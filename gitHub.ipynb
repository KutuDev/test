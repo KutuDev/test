{
 "cells": [
  {
   "cell_type": "markdown",
   "metadata": {},
   "source": [
    "## Using GitHub and Git Bash to host your files on a remote server"
   ]
  },
  {
   "cell_type": "markdown",
   "metadata": {},
   "source": [
    "* open Git bash and execute the following commands in there\n",
    "* cd Desktop\n",
    "* git clone `put the url of new repo here`\n",
    "* cd `put the exact name of new repo already cloned here`\n",
    "* add a new file to the new folder created\n",
    "* cd `name of new local directory`\n",
    "* git add .\n",
    "* git commit -m 'add a friendly message'\n",
    "* git push\n",
    "* refresh gitHub new repo webpage to see changes"
   ]
  },
  {
   "cell_type": "code",
   "execution_count": null,
   "metadata": {},
   "outputs": [],
   "source": []
  }
 ],
 "metadata": {
  "kernelspec": {
   "display_name": "Python 3",
   "language": "python",
   "name": "python3"
  },
  "language_info": {
   "codemirror_mode": {
    "name": "ipython",
    "version": 3
   },
   "file_extension": ".py",
   "mimetype": "text/x-python",
   "name": "python",
   "nbconvert_exporter": "python",
   "pygments_lexer": "ipython3",
   "version": "3.7.6"
  }
 },
 "nbformat": 4,
 "nbformat_minor": 4
}
